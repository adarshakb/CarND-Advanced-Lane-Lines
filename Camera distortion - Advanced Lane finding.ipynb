{
 "cells": [
  {
   "cell_type": "code",
   "execution_count": 142,
   "metadata": {
    "collapsed": false
   },
   "outputs": [],
   "source": [
    "import sys\n",
    "import os.path\n",
    "sys.path.append('/Users/abadarinath/Applications/anaconda/envs/UdacityNanoCar/lib/python3.5/site-packages')\n",
    "import numpy as np\n",
    "import cv2\n",
    "%matplotlib inline\n",
    "from matplotlib import pyplot as plt\n",
    "from os import listdir\n",
    "from os.path import isfile, join\n",
    "import pickle\n",
    "\n",
    "CAMERA_CAL_DIRECTORY = './camera_cal/'\n"
   ]
  },
  {
   "cell_type": "code",
   "execution_count": 143,
   "metadata": {
    "collapsed": false
   },
   "outputs": [],
   "source": [
    "def readImagesFromDir(dirPath,rgb=False):\n",
    "    allDirfiles = [dirPath+f for f in listdir(dirPath) if isfile(join(dirPath, f))]\n",
    "    result = []\n",
    "    for i in range(len(allDirfiles)):\n",
    "        if rgb:\n",
    "            bgr_img = cv2.imread(os.path.abspath(allDirfiles[i]))\n",
    "            b,g,r = cv2.split(bgr_img)# get b,g,r\n",
    "            result.append(cv2.merge([r,g,b]))\n",
    "        else:\n",
    "            result.append(cv2.imread(os.path.abspath(allDirfiles[i])))\n",
    "    return result"
   ]
  },
  {
   "cell_type": "code",
   "execution_count": 144,
   "metadata": {
    "collapsed": true
   },
   "outputs": [],
   "source": [
    "\n",
    "def displayImages(imgArray,isGray=False):\n",
    "    plt.figure()\n",
    "    for i in range(len(imgArray)):\n",
    "        if isGray:\n",
    "            plt.imshow(imgArray[i], cmap='gray')\n",
    "            plt.show()\n",
    "        else:\n",
    "            plt.imshow(imgArray[i])\n",
    "            plt.show()"
   ]
  },
  {
   "cell_type": "code",
   "execution_count": 145,
   "metadata": {
    "collapsed": true
   },
   "outputs": [],
   "source": [
    "def caliberateCamera(cameraCalImgDirectory,debug=False):\n",
    "    nx = 9\n",
    "    ny = 6\n",
    "    allCameraImgs = readImagesFromDir(cameraCalImgDirectory)\n",
    "    caliberationImgs = allCameraImgs[1:]\n",
    "    testImg = allCameraImgs[0]\n",
    "\n",
    "    # prepare object points, like (0,0,0), (1,0,0), (2,0,0) ....,(6,5,0)\n",
    "    objp = np.zeros((nx*ny,3), np.float32)\n",
    "    objp[:,:2] = np.mgrid[0:nx, 0:ny].T.reshape(-1,2)\n",
    "\n",
    "    # Arrays to store object points and image points from all the images.\n",
    "    objpoints = [] # 3d points in real world space\n",
    "    imgpoints = [] # 2d points in image plane.\n",
    "    img_size = (testImg.shape[1], testImg.shape[0])\n",
    "\n",
    "    if debug:\n",
    "        print(\"caliberation images\")\n",
    "        displayImages(caliberationImgs)\n",
    "    for img in caliberationImgs:\n",
    "        gray = cv2.cvtColor(img, cv2.COLOR_BGR2GRAY)\n",
    "        ret, corners = cv2.findChessboardCorners(gray, (nx,ny), None)\n",
    "        # If found, draw corners\n",
    "        if ret == True:\n",
    "            objpoints.append(objp)\n",
    "            imgpoints.append(corners)\n",
    "            if debug:\n",
    "                # Draw and display the corners\n",
    "                cv2.drawChessboardCorners(img, (nx, ny), corners, ret)\n",
    "                displayImages([img])\n",
    "        else:\n",
    "            print(\"something went wrong in finding chessboard corners\")\n",
    "    \n",
    "    \n",
    "    ret, mtx, dist, rvecs, tvecs = cv2.calibrateCamera(objpoints, imgpoints, img_size,None,None)\n",
    "    if ret == False:\n",
    "        print(\"something went wrong in calibration\")\n",
    "    else:\n",
    "        dist_pickle = {}\n",
    "        dist_pickle[\"mtx\"] = mtx\n",
    "        dist_pickle[\"dist\"] = dist\n",
    "        pickle.dump( dist_pickle, open( cameraCalImgDirectory+\"dist_pickle.p\", \"wb\" ) )\n",
    "        print(\"saved to \"+cameraCalImgDirectory+\"dist_pickle.p\")\n",
    "        dst = cv2.undistort(testImg, mtx, dist, None, mtx)\n",
    "        print(\"test image\")\n",
    "        displayImages([testImg])\n",
    "        print(\"undistorted image\")\n",
    "        displayImages([dst])"
   ]
  },
  {
   "cell_type": "code",
   "execution_count": 146,
   "metadata": {
    "collapsed": false
   },
   "outputs": [
    {
     "name": "stdout",
     "output_type": "stream",
     "text": [
      "something went wrong in finding chessboard corners\n",
      "something went wrong in finding chessboard corners\n"
     ]
    },
    {
     "ename": "error",
     "evalue": "/Users/jenkins/miniconda/1/x64/conda-bld/work/opencv-3.1.0/modules/imgproc/src/color.cpp:7456: error: (-215) scn == 3 || scn == 4 in function ipp_cvtColor\n",
     "output_type": "error",
     "traceback": [
      "\u001b[0;31m---------------------------------------------------------------------------\u001b[0m",
      "\u001b[0;31merror\u001b[0m                                     Traceback (most recent call last)",
      "\u001b[0;32m<ipython-input-146-757344d695ba>\u001b[0m in \u001b[0;36m<module>\u001b[0;34m()\u001b[0m\n\u001b[0;32m----> 1\u001b[0;31m \u001b[0mcaliberateCamera\u001b[0m\u001b[0;34m(\u001b[0m\u001b[0mCAMERA_CAL_DIRECTORY\u001b[0m\u001b[0;34m,\u001b[0m\u001b[0;32mFalse\u001b[0m\u001b[0;34m)\u001b[0m\u001b[0;34m\u001b[0m\u001b[0m\n\u001b[0m",
      "\u001b[0;32m<ipython-input-145-20dcc450c7bc>\u001b[0m in \u001b[0;36mcaliberateCamera\u001b[0;34m(cameraCalImgDirectory, debug)\u001b[0m\n\u001b[1;32m     19\u001b[0m         \u001b[0mdisplayImages\u001b[0m\u001b[0;34m(\u001b[0m\u001b[0mcaliberationImgs\u001b[0m\u001b[0;34m)\u001b[0m\u001b[0;34m\u001b[0m\u001b[0m\n\u001b[1;32m     20\u001b[0m     \u001b[0;32mfor\u001b[0m \u001b[0mimg\u001b[0m \u001b[0;32min\u001b[0m \u001b[0mcaliberationImgs\u001b[0m\u001b[0;34m:\u001b[0m\u001b[0;34m\u001b[0m\u001b[0m\n\u001b[0;32m---> 21\u001b[0;31m         \u001b[0mgray\u001b[0m \u001b[0;34m=\u001b[0m \u001b[0mcv2\u001b[0m\u001b[0;34m.\u001b[0m\u001b[0mcvtColor\u001b[0m\u001b[0;34m(\u001b[0m\u001b[0mimg\u001b[0m\u001b[0;34m,\u001b[0m \u001b[0mcv2\u001b[0m\u001b[0;34m.\u001b[0m\u001b[0mCOLOR_BGR2GRAY\u001b[0m\u001b[0;34m)\u001b[0m\u001b[0;34m\u001b[0m\u001b[0m\n\u001b[0m\u001b[1;32m     22\u001b[0m         \u001b[0mret\u001b[0m\u001b[0;34m,\u001b[0m \u001b[0mcorners\u001b[0m \u001b[0;34m=\u001b[0m \u001b[0mcv2\u001b[0m\u001b[0;34m.\u001b[0m\u001b[0mfindChessboardCorners\u001b[0m\u001b[0;34m(\u001b[0m\u001b[0mgray\u001b[0m\u001b[0;34m,\u001b[0m \u001b[0;34m(\u001b[0m\u001b[0mnx\u001b[0m\u001b[0;34m,\u001b[0m\u001b[0mny\u001b[0m\u001b[0;34m)\u001b[0m\u001b[0;34m,\u001b[0m \u001b[0;32mNone\u001b[0m\u001b[0;34m)\u001b[0m\u001b[0;34m\u001b[0m\u001b[0m\n\u001b[1;32m     23\u001b[0m         \u001b[0;31m# If found, draw corners\u001b[0m\u001b[0;34m\u001b[0m\u001b[0;34m\u001b[0m\u001b[0m\n",
      "\u001b[0;31merror\u001b[0m: /Users/jenkins/miniconda/1/x64/conda-bld/work/opencv-3.1.0/modules/imgproc/src/color.cpp:7456: error: (-215) scn == 3 || scn == 4 in function ipp_cvtColor\n"
     ]
    }
   ],
   "source": [
    "caliberateCamera(CAMERA_CAL_DIRECTORY,False)"
   ]
  },
  {
   "cell_type": "code",
   "execution_count": null,
   "metadata": {
    "collapsed": false
   },
   "outputs": [],
   "source": [
    "file = open(CAMERA_CAL_DIRECTORY+\"dist_pickle.p\",'rb')\n",
    "distortion = pickle.load(file)\n",
    "file.close()\n",
    "\n",
    "testImgs = readImagesFromDir('./test_images/',True)\n",
    "\n",
    "for img in testImgs:\n",
    "    dst = cv2.undistort(img, distortion['mtx'], distortion['dist'], None, distortion['mtx'])\n",
    "    print(\"before image\")\n",
    "    displayImages([img])\n",
    "    print(\"undistorted image\")\n",
    "    displayImages([dst])"
   ]
  },
  {
   "cell_type": "code",
   "execution_count": null,
   "metadata": {
    "collapsed": true
   },
   "outputs": [],
   "source": []
  }
 ],
 "metadata": {
  "anaconda-cloud": {},
  "kernelspec": {
   "display_name": "Python [conda root]",
   "language": "python",
   "name": "conda-root-py"
  },
  "language_info": {
   "codemirror_mode": {
    "name": "ipython",
    "version": 3
   },
   "file_extension": ".py",
   "mimetype": "text/x-python",
   "name": "python",
   "nbconvert_exporter": "python",
   "pygments_lexer": "ipython3",
   "version": "3.5.2"
  }
 },
 "nbformat": 4,
 "nbformat_minor": 1
}
